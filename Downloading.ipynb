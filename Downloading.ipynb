{
 "cells": [
  {
   "cell_type": "code",
   "execution_count": 1,
   "metadata": {},
   "outputs": [],
   "source": [
    "import sys\n",
    "import os\n",
    "import time\n",
    "import re\n",
    "import json\n",
    "import shutil\n",
    "from SciServer import CasJobs, SkyQuery, SciDrive, SkyServer\n",
    "from astropy.table import Table,vstack,Column\n",
    "from astroquery.mast import Catalogs\n",
    "from astropy.coordinates import SkyCoord\n",
    "import astropy.units as u\n",
    "from astropy.utils.console import ProgressBar\n",
    "from collections import deque\n",
    "import numpy as np\n",
    "from pydoc import locate\n",
    "from urllib.parse import quote as urlencode\n",
    "from urllib.request import urlretrieve\n",
    "import http.client as httplib\n",
    "import pprint\n",
    "pp = pprint.PrettyPrinter(indent=4)\n",
    "import gzip\n",
    "import tarfile\n",
    "from IPython.core.display import display\n",
    "import matplotlib.pyplot as mplplot\n",
    "import astropy as ap\n",
    "import astropy.io.fits as astrofits\n",
    "import astropy.io.votable as astrovot\n",
    "import astropy.wcs as astrowcs\n",
    "import astropy.visualization as astrovis\n",
    "import astropy.visualization.mpl_normalize as astromplnorm\n",
    "from astropy.nddata.utils import Cutout2D\n",
    "import time\n",
    "import math\n",
    "import pdb\n",
    "import pandas as pd"
   ]
  },
  {
   "cell_type": "markdown",
   "metadata": {},
   "source": [
    "Definitions. These are all referenced and explained in the code itself."
   ]
  },
  {
   "cell_type": "code",
   "execution_count": 2,
   "metadata": {},
   "outputs": [],
   "source": [
    "def mastQuery(request):\n",
    "    \"\"\"Perform a MAST query.\n",
    "    \n",
    "        Parameters\n",
    "        ----------\n",
    "        request (dictionary): The MAST request json object\n",
    "        \n",
    "        Returns head,content where head is the response HTTP headers, and content is the returned data\"\"\"\n",
    "    \n",
    "    server='mast.stsci.edu'\n",
    "\n",
    "    # Grab Python Version \n",
    "    version = \".\".join(map(str, sys.version_info[:3]))\n",
    "\n",
    "    # Create Http Header Variables\n",
    "    headers = {\"Content-type\": \"application/x-www-form-urlencoded\",\n",
    "               \"Accept\": \"text/plain\",\n",
    "               \"User-agent\":\"python-requests/\"+version}\n",
    "\n",
    "    # Encoding the request as a json string\n",
    "    requestString = json.dumps(request)\n",
    "    requestString = urlencode(requestString)\n",
    "    \n",
    "    # opening the https connection\n",
    "    conn = httplib.HTTPSConnection(server)\n",
    "\n",
    "    # Making the query\n",
    "    conn.request(\"POST\", \"/api/v0/invoke\", \"request=\"+requestString, headers)\n",
    "\n",
    "    # Getting the response\n",
    "    resp = conn.getresponse()\n",
    "    head = resp.getheaders()\n",
    "    content = resp.read().decode('utf-8')\n",
    "\n",
    "    # Close the https connection\n",
    "    conn.close()\n",
    "\n",
    "    return head,content\n",
    "\n",
    "def getHSCMatches(matchId):\n",
    "\n",
    "    request = {'service':'Mast.HscMatches.Db.v2',\n",
    "               'params':{'input':matchId,\n",
    "                         'cache-breaker':10},\n",
    "               'format':'json',\n",
    "               'page':1,\n",
    "               'pagesize':4}   \n",
    "\n",
    "    headers,outString = mastQuery(request)\n",
    "\n",
    "    outData = json.loads(outString)\n",
    "\n",
    "    return outData\n",
    "\n",
    "def query_cas():\n",
    "    query = \"SELECT dr8objid, ra, dec FROM zoo2MainSpecz\"\n",
    "    result = CasJobs.executeQuery(query, 'DR12', format='pandas')\n",
    "\n",
    "    result = Table.from_pandas(result)\n",
    "    result.write('casquery.ecsv')\n",
    "    return result\n",
    "\n",
    "def read_cas(filename='casquery.ecsv'):\n",
    "    return Table.read(filename)\n",
    "\n",
    "def query_mast(coords,radius=0.001*u.deg):\n",
    "    results = Catalogs.query_region(coords,radius=radius)\n",
    "    print(results)\n",
    "    \n",
    "def stringtype(typestr):\n",
    "    typemap = {'string':str,'float':float,'int':int,'boolean':bool,'date':str}\n",
    "    return typemap[typestr]\n",
    "    \n",
    "def typecast(val,typestr):\n",
    "    if val is None:\n",
    "        return None\n",
    "    elif typestr == 'string':\n",
    "        return str(val)\n",
    "    else:\n",
    "        return locate(typestr)(val)\n",
    "\n",
    "def mastJson2Table(line):\n",
    "    jsonObj = line\n",
    "    if not jsonObj['data']:\n",
    "        return None\n",
    "    coldict = {field['name']:stringtype(field['type']) for field in jsonObj['fields']}\n",
    "    keys,dtypes = zip(*coldict.items())\n",
    "    \n",
    "    rows = deque()\n",
    "    \n",
    "    for d in jsonObj['data']:\n",
    "        row = [d[key] if d[key] is not None else '99' for key in keys]\n",
    "        rows.append(row)\n",
    "     \n",
    "    table = Table(rows=list(rows),names=keys,dtype=dtypes)\n",
    "    return table\n",
    "\n",
    "def genBundleRequest(imageNames, outfileNamePrefix='downloadBundle', extension='tar.gz'):\n",
    "    baseUrl = \"http://hla.stsci.edu/cgi-bin/getdata.cgi?config=ops&dataset=\"\n",
    "    urlList = \",\".join(['{}{}'.format(baseUrl, imageName) for imageName in imageNames])\n",
    "    pathList = ['{}.fits'.format(imageName) for imageName in imageNames]\n",
    "\n",
    "    request = {\"service\":\"Mast.Bundle.Request\",\n",
    "               \"params\":{\"urlList\":urlList,\n",
    "                         \"filename\":outfileNamePrefix,\n",
    "                         \"pathList\":pathList,\n",
    "                         \"extension\":extension,\n",
    "                         'cache-breaker':10}\n",
    "              }\n",
    "    return request,outfileNamePrefix,extension\n",
    "\n",
    "def downloadRequest(url):\n",
    "    server='mast.stsci.edu'\n",
    "    \n",
    "    conn = httplib.HTTPSConnection(server)\n",
    "    conn.request(\"GET\", url)\n",
    "    resp = conn.getresponse()\n",
    "    print(resp.getheader)\n",
    "   \n",
    "    fileName = resp.getheader('Content-Disposition')[21:]\n",
    "    fileContent = resp.read()\n",
    "\n",
    "    with open(fileName,'wb') as FLE:\n",
    "        FLE.write(fileContent)\n",
    "\n",
    "    conn.close()\n",
    "\n",
    "    return fileName"
   ]
  },
  {
   "cell_type": "markdown",
   "metadata": {},
   "source": [
    "This is used to read in the astropy table that has the ra, dec, match id and other infromation stored."
   ]
  },
  {
   "cell_type": "code",
   "execution_count": 3,
   "metadata": {},
   "outputs": [],
   "source": [
    "os.chdir('/home/idies/workspace/persistent')\n",
    "t = Table.read('final_table.fits')"
   ]
  },
  {
   "cell_type": "markdown",
   "metadata": {},
   "source": [
    "This section searches through the table for all matches where a spacific filter is used. This filter is selected and a list is made of each match and each image associated with each match for that filter."
   ]
  },
  {
   "cell_type": "code",
   "execution_count": 4,
   "metadata": {},
   "outputs": [],
   "source": [
    "filt = 'A_F475W'\n",
    "matchIDs = [i['MatchID'] for i in t if isinstance(i[filt], np.float64) and i[filt] != 99.0 and not math.isnan(i[filt])]\n",
    "images = [mastJson2Table(getHSCMatches(str(i)))['ImageName'] for i in matchIDs]"
   ]
  },
  {
   "cell_type": "markdown",
   "metadata": {},
   "source": [
    "The loops through each image and matches any number of match ids associated with that imaged to one section of a dictionary. This groups multiple matches together with the image."
   ]
  },
  {
   "cell_type": "code",
   "execution_count": 5,
   "metadata": {},
   "outputs": [],
   "source": [
    "image_dict = {}\n",
    "for i,name in enumerate(images):\n",
    "    image_list = [j for j in name if 'f475w' in j]\n",
    "    for k in image_list:\n",
    "        image_dict[k] = [matchIDs[ind] for ind,out in enumerate(images) for In in out if In == k]"
   ]
  },
  {
   "cell_type": "markdown",
   "metadata": {},
   "source": [
    "This section of code is the actual downloade section. It takes a few of the images in the above dictionary and downloads them to a bundle in a tar.gz format. This file is then extracted and the image is saved to another folder for the time being."
   ]
  },
  {
   "cell_type": "code",
   "execution_count": 27,
   "metadata": {},
   "outputs": [
    {
     "name": "stdout",
     "output_type": "stream",
     "text": [
      "{   'params': {   'cache-breaker': 10,\n",
      "                  'extension': 'tar.gz',\n",
      "                  'filename': 'downloadBundle',\n",
      "                  'pathList': [   'hst_9401_85_acs_wfc_f475w.fits',\n",
      "                                  'hst_9401_81_acs_wfc_f475w.fits',\n",
      "                                  'hst_9401_68_acs_wfc_f475w.fits',\n",
      "                                  'hst_9401_11_acs_wfc_f475w.fits'],\n",
      "                  'urlList': 'http://hla.stsci.edu/cgi-bin/getdata.cgi?config=ops&dataset=hst_9401_85_acs_wfc_f475w,http://hla.stsci.edu/cgi-bin/getdata.cgi?config=ops&dataset=hst_9401_81_acs_wfc_f475w,http://hla.stsci.edu/cgi-bin/getdata.cgi?config=ops&dataset=hst_9401_68_acs_wfc_f475w,http://hla.stsci.edu/cgi-bin/getdata.cgi?config=ops&dataset=hst_9401_11_acs_wfc_f475w'},\n",
      "    'service': 'Mast.Bundle.Request'}\n",
      "{   'bytesStreamed': 1850309004,\n",
      "    'fileStatusList': {   'http://hla.stsci.edu/cgi-bin/getdata.cgi?config=ops&dataset=hst_9401_11_acs_wfc_f475w': '{\"status\":\"COMPLETE\"}',\n",
      "                          'http://hla.stsci.edu/cgi-bin/getdata.cgi?config=ops&dataset=hst_9401_68_acs_wfc_f475w': '{\"status\":\"COMPLETE\"}',\n",
      "                          'http://hla.stsci.edu/cgi-bin/getdata.cgi?config=ops&dataset=hst_9401_81_acs_wfc_f475w': '{\"status\":\"COMPLETE\"}',\n",
      "                          'http://hla.stsci.edu/cgi-bin/getdata.cgi?config=ops&dataset=hst_9401_85_acs_wfc_f475w': '{\"status\":\"COMPLETE\"}'},\n",
      "    'manifestUrl': 'https://mast.stsci.edu/portal/Download/stage/anonymous/public/7baeeb7e-c35f-4128-8e39-a97e71904bf4/downloadBundle_MANIFEST.HTML',\n",
      "    'progress': 1,\n",
      "    'statusList': {   'http://hla.stsci.edu/cgi-bin/getdata.cgi?config=ops&dataset=hst_9401_11_acs_wfc_f475w': 'COMPLETE',\n",
      "                      'http://hla.stsci.edu/cgi-bin/getdata.cgi?config=ops&dataset=hst_9401_68_acs_wfc_f475w': 'COMPLETE',\n",
      "                      'http://hla.stsci.edu/cgi-bin/getdata.cgi?config=ops&dataset=hst_9401_81_acs_wfc_f475w': 'COMPLETE',\n",
      "                      'http://hla.stsci.edu/cgi-bin/getdata.cgi?config=ops&dataset=hst_9401_85_acs_wfc_f475w': 'COMPLETE'},\n",
      "    'url': 'https://mast.stsci.edu/portal/Download/stage/anonymous/public/7baeeb7e-c35f-4128-8e39-a97e71904bf4/downloadBundle.tar.gz'}\n",
      "<bound method HTTPResponse.getheader of <http.client.HTTPResponse object at 0x7f1888c7acf8>>\n"
     ]
    }
   ],
   "source": [
    "os.chdir('/home/idies/workspace/persistent/Images')\n",
    "name_list = []\n",
    "for number,key in enumerate(image_dict):\n",
    "    name_list.append(key)\n",
    "query,filename,extension = genBundleRequest(name_list[:4])\n",
    "pp.pprint(query)\n",
    "headers,bundleString = mastQuery(query)\n",
    "bundleInfo = json.loads(bundleString)\n",
    "pp.pprint(bundleInfo)\n",
    "downloadfile = downloadRequest(bundleInfo['url'])\n",
    "tar = tarfile.open(\"downloadBundle.tar.gz\")\n",
    "os.chdir('/home/idies/workspace/persistent/Images/Images')\n",
    "tar.extractall()\n",
    "tar.close()"
   ]
  },
  {
   "cell_type": "markdown",
   "metadata": {},
   "source": [
    "Due to the unfortinate renaming of a file to \"System.String[]\" one image in each set must be deleted for use in the future. This could be worked around but the image name is lost and I haven't saved it to a variabel above yet so it breaks the code below... this will be fixed soon."
   ]
  },
  {
   "cell_type": "code",
   "execution_count": 28,
   "metadata": {},
   "outputs": [],
   "source": [
    "os.remove('System.String[]')\n",
    "shutil.rmtree('downloadBundle')"
   ]
  },
  {
   "cell_type": "markdown",
   "metadata": {},
   "source": [
    "This code loops through the folder containing images and makes cutouts on each match from each image. These cutouts are named after the image file and the number of cutout it is and saved to another folder."
   ]
  },
  {
   "cell_type": "code",
   "execution_count": 38,
   "metadata": {},
   "outputs": [
    {
     "name": "stdout",
     "output_type": "stream",
     "text": [
      ".nfs0000000e00a08d3300000008\n",
      "WCS Keywords\n",
      "\n",
      "Number of WCS axes: 2\n",
      "CTYPE : 'RA---TAN'  'DEC--TAN'  \n",
      "CRVAL : 10.80791915671064  41.18530442173756  \n",
      "CRPIX : 2749.999999999824  2744.999999999824  \n",
      "CD1_1 CD1_2  : -1.3888888888888e-05  -4.8712485898075e-35  \n",
      "CD2_1 CD2_2  : 0.0  1.38888888888896e-05  \n",
      "NAXIS : 5499  5489\n"
     ]
    },
    {
     "ename": "KeyError",
     "evalue": "'.nfs0000000e00a08d3300000008'",
     "output_type": "error",
     "traceback": [
      "\u001b[0;31m\u001b[0m",
      "\u001b[0;31mKeyError\u001b[0mTraceback (most recent call last)",
      "\u001b[0;32m<ipython-input-38-554cbee2eb49>\u001b[0m in \u001b[0;36m<module>\u001b[0;34m()\u001b[0m\n\u001b[1;32m      8\u001b[0m     \u001b[0mprint\u001b[0m\u001b[0;34m(\u001b[0m\u001b[0mw\u001b[0m\u001b[0;34m)\u001b[0m\u001b[0;34m\u001b[0m\u001b[0m\n\u001b[1;32m      9\u001b[0m     \u001b[0mname\u001b[0m \u001b[0;34m=\u001b[0m \u001b[0mfilename\u001b[0m\u001b[0;34m.\u001b[0m\u001b[0mreplace\u001b[0m\u001b[0;34m(\u001b[0m\u001b[0;34m'.fits'\u001b[0m\u001b[0;34m,\u001b[0m \u001b[0;34m''\u001b[0m\u001b[0;34m)\u001b[0m\u001b[0;34m\u001b[0m\u001b[0m\n\u001b[0;32m---> 10\u001b[0;31m     \u001b[0;32mfor\u001b[0m \u001b[0mnumber\u001b[0m\u001b[0;34m,\u001b[0m\u001b[0mz\u001b[0m \u001b[0;32min\u001b[0m \u001b[0menumerate\u001b[0m\u001b[0;34m(\u001b[0m\u001b[0mimage_dict\u001b[0m\u001b[0;34m[\u001b[0m\u001b[0mname\u001b[0m\u001b[0;34m]\u001b[0m\u001b[0;34m)\u001b[0m\u001b[0;34m:\u001b[0m\u001b[0;34m\u001b[0m\u001b[0m\n\u001b[0m\u001b[1;32m     11\u001b[0m         \u001b[0;32mfor\u001b[0m \u001b[0mi\u001b[0m\u001b[0;34m,\u001b[0m\u001b[0mj\u001b[0m \u001b[0;32min\u001b[0m \u001b[0menumerate\u001b[0m\u001b[0;34m(\u001b[0m\u001b[0mt\u001b[0m\u001b[0;34m[\u001b[0m\u001b[0;34m'MatchID'\u001b[0m\u001b[0;34m]\u001b[0m\u001b[0;34m)\u001b[0m\u001b[0;34m:\u001b[0m\u001b[0;34m\u001b[0m\u001b[0m\n\u001b[1;32m     12\u001b[0m             \u001b[0;32mif\u001b[0m \u001b[0mj\u001b[0m \u001b[0;34m==\u001b[0m \u001b[0mz\u001b[0m\u001b[0;34m:\u001b[0m\u001b[0;34m\u001b[0m\u001b[0m\n",
      "\u001b[0;31mKeyError\u001b[0m: '.nfs0000000e00a08d3300000008'"
     ]
    }
   ],
   "source": [
    "os.chdir('/home/idies/workspace/persistent/Images/Images')\n",
    "for filename in os.listdir('/home/idies/workspace/persistent/Images/Images'):\n",
    "    if filename == '.ipynb_checkpoints':\n",
    "        continue\n",
    "    print(filename)\n",
    "    hdu = astrofits.open(filename)\n",
    "    w = astrowcs.WCS(hdu[1].header)\n",
    "    print(w)\n",
    "    name = filename.replace('.fits', '')\n",
    "    for number,z in enumerate(image_dict[name]):\n",
    "        for i,j in enumerate(t['MatchID']):\n",
    "            if j == z:\n",
    "                ra_cut = t['ra'][i]\n",
    "                dec_cut = t['dec'][i]\n",
    "                coord = SkyCoord(ra_cut,dec_cut,unit=(u.deg,u.deg),frame='icrs')\n",
    "                print('{:.10f}, {:.10f}'.format(ra_cut,dec_cut))\n",
    "                cut = Cutout2D(hdu[1].data,position=coord,size=4*u.arcsec,wcs=w)\n",
    "                cut_fits = astrofits.PrimaryHDU(data=cut.data, header=cut.wcs.to_header())\n",
    "                cut_fits.writeto('/home/idies/workspace/persistent/Images/Cuts/'+name+'_'+str(number)+'_cut.fits')"
   ]
  },
  {
   "cell_type": "code",
   "execution_count": null,
   "metadata": {},
   "outputs": [],
   "source": []
  },
  {
   "cell_type": "code",
   "execution_count": null,
   "metadata": {},
   "outputs": [],
   "source": []
  },
  {
   "cell_type": "code",
   "execution_count": null,
   "metadata": {},
   "outputs": [],
   "source": []
  },
  {
   "cell_type": "code",
   "execution_count": null,
   "metadata": {},
   "outputs": [],
   "source": []
  },
  {
   "cell_type": "code",
   "execution_count": null,
   "metadata": {},
   "outputs": [],
   "source": []
  }
 ],
 "metadata": {
  "kernelspec": {
   "display_name": "Python [default]",
   "language": "python",
   "name": "python3"
  },
  "language_info": {
   "codemirror_mode": {
    "name": "ipython",
    "version": 3
   },
   "file_extension": ".py",
   "mimetype": "text/x-python",
   "name": "python",
   "nbconvert_exporter": "python",
   "pygments_lexer": "ipython3",
   "version": "3.5.2"
  }
 },
 "nbformat": 4,
 "nbformat_minor": 1
}
