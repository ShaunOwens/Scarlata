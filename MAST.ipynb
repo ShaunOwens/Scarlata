{
 "cells": [
  {
   "cell_type": "code",
   "execution_count": 11,
   "metadata": {},
   "outputs": [],
   "source": [
    "import sys\n",
    "import os\n",
    "import time\n",
    "import re\n",
    "import json\n",
    "from urllib.parse import quote as urlencode\n",
    "from urllib.request import urlretrieve\n",
    "\n",
    "import http.client as httplib \n",
    "\n",
    "from astropy.table import Table\n",
    "import numpy as np\n",
    "\n",
    "import pprint\n",
    "pp = pprint.PrettyPrinter(indent=4)\n",
    "import SciServer\n",
    "from SciServer import CasJobs, SkyQuery, SciDrive, SkyServer\n",
    "import requests\n",
    "import pandas as pd\n",
    "import astropy as ap\n",
    "import astropy.io.fits as astrofits\n",
    "import astropy.io.votable as astrovot\n",
    "import astropy.wcs as astrowcs\n",
    "import astropy.units as astrounits\n",
    "import astropy.coordinates as astrocoords\n",
    "import astropy.visualization as astrovis\n",
    "import astropy.visualization.mpl_normalize as astromplnorm\n",
    "import astropy.nddata as astronddata\n",
    "import astropy.nddata.utils as astrondutils\n",
    "import io\n",
    "import pdb \n",
    "from IPython.core.display import display\n",
    "\n",
    "import matplotlib.pyplot as mplplot"
   ]
  },
  {
   "cell_type": "code",
   "execution_count": 12,
   "metadata": {},
   "outputs": [],
   "source": [
    "def mastQuery(request):\n",
    "\n",
    "    server='mast.stsci.edu'\n",
    "\n",
    "    # Grab Python Version \n",
    "    version = \".\".join(map(str, sys.version_info[:3]))\n",
    "\n",
    "    # Create Http Header Variables\n",
    "    headers = {\"Content-type\": \"application/x-www-form-urlencoded\",\n",
    "               \"Accept\": \"text/plain\",\n",
    "               \"User-agent\":\"python-requests/\"+version}\n",
    "\n",
    "    # Encoding the request as a json string\n",
    "    requestString = json.dumps(request)\n",
    "    #pdb.set_trace()\n",
    "    requestString = urlencode(requestString)\n",
    "    # opening the https connection\n",
    "    conn = httplib.HTTPSConnection(server)\n",
    "    \n",
    "    # Making the query\n",
    "    conn.request(\"POST\", \"/api/v0/invoke\", \"request=\"+requestString, headers)\n",
    "    # Getting the response\n",
    "    resp = conn.getresponse()\n",
    "    head = resp.getheaders()\n",
    "    content = resp.read().decode('UTF-8')\n",
    "\n",
    "    # Close the https connection\n",
    "    conn.close()\n",
    "    return head,content"
   ]
  },
  {
   "cell_type": "code",
   "execution_count": 13,
   "metadata": {},
   "outputs": [],
   "source": [
    "def HscCrossmatch(data):\n",
    "    \n",
    "    crossmatchInput = {\"fields\":[{\"name\":\"ra\",\"type\":\"float\"},\n",
    "                                 {\"name\":\"dec\",\"type\":\"float\"}],\n",
    "                       \"data\":data}\n",
    "    \n",
    "    request = {\"service\":\"Mast.Hsc.Crossmatch\",\n",
    "               \"data\":crossmatchInput,\n",
    "               'params':{\n",
    "                   \"raColumn\":\"ra\",\n",
    "                   \"decColumn\":\"dec\",\n",
    "                   'radius':0.001,\n",
    "                   'cache-breaker':10},\n",
    "               \"pagesize\":1000,\n",
    "               \"page\":1,\n",
    "               \"format\":\"json\",\n",
    "               \"removecache\":True}\n",
    "    \n",
    "    headers,outString = mastQuery(request)\n",
    "    outData = json.loads(outString)\n",
    "    \n",
    "    return outData"
   ]
  },
  {
   "cell_type": "code",
   "execution_count": 14,
   "metadata": {},
   "outputs": [],
   "source": [
    "def mastJson2Table_Filt(jsonObj):\n",
    "    filt = 'A_F475W'\n",
    "    Obj = [x for x in jsonObj['data'] if x.get(filt,None) != None]\n",
    "    mastDataTable = Table()\n",
    "\n",
    "    for col,atype in [(x['name'],x['type']) for x in jsonObj['fields']]:\n",
    "        mastDataTable[col] = np.array([x.get(col,None) for x in Obj])\n",
    "    \n",
    "    return mastDataTable"
   ]
  },
  {
   "cell_type": "code",
   "execution_count": 15,
   "metadata": {},
   "outputs": [],
   "source": [
    "def mastJson2Table(jsonObj):\n",
    "\n",
    "    dataTable = Table()\n",
    "\n",
    "    for col,atype in [(x['name'],x['type']) for x in jsonObj['fields']]:\n",
    "        dataTable[col] = np.array([x.get(col,None) for x in jsonObj['data']])\n",
    "        \n",
    "    return dataTable"
   ]
  },
  {
   "cell_type": "code",
   "execution_count": 16,
   "metadata": {},
   "outputs": [],
   "source": [
    "def getHSCMatches(matchId):\n",
    "\n",
    "#     data = result['data']\n",
    "\n",
    "#     # get the match id\n",
    "#     matchId = data[0]['MatchID']\n",
    "#     print(type(matchId))\n",
    "    # get detailed results for chosen match id\n",
    "    request = {'service':'Mast.HscMatches.Db',\n",
    "               'params':{'input':matchId},\n",
    "               'format':'json',\n",
    "               'page':1,\n",
    "               'pagesize':4}   \n",
    "\n",
    "    headers,outString = mastQuery(request)\n",
    "\n",
    "    outData = json.loads(outString)\n",
    "\n",
    "    return outData"
   ]
  },
  {
   "cell_type": "code",
   "execution_count": 17,
   "metadata": {},
   "outputs": [],
   "source": [
    "def HSCProducts(obsid):\n",
    "    \n",
    "\n",
    "#     obsid = Obs['obsid']\n",
    "\n",
    "    productRequest = {'service':'Mast.Hsc.Db.Products',\n",
    "                     'params':{'obsid':obsid},\n",
    "                     'format':'json',\n",
    "                     'pagesize':100,\n",
    "                     'page':1}   \n",
    "\n",
    "    headers,obsProductsString = mastQuery(productRequest)\n",
    "\n",
    "    obsProducts = json.loads(obsProductsString)\n",
    "    \n",
    "    return obsProducts"
   ]
  },
  {
   "cell_type": "code",
   "execution_count": 18,
   "metadata": {},
   "outputs": [],
   "source": [
    "query = \"SELECT dr8objid, ra, dec FROM zoo2MainSpecz\"\n",
    "result = CasJobs.executeQuery(query, 'DR12', format='pandas')\n",
    "ra = result.ra.values\n",
    "dec = result.dec.values\n",
    "#display(result)"
   ]
  },
  {
   "cell_type": "code",
   "execution_count": 21,
   "metadata": {},
   "outputs": [
    {
     "name": "stdout",
     "output_type": "stream",
     "text": [
      "   ra       dec    MatchID ... W3_F160W_Sigma W3_F160W_N _selected_\n",
      "-------- --------- ------- ... -------------- ---------- ----------\n",
      "192.0427 -1.747009  278667 ...           None       None       None\n"
     ]
    }
   ],
   "source": [
    "#os.chdir('/home/idies/workspace/persistent/JSON')\n",
    "bins = 4000\n",
    "number = 0\n",
    "ra_dec_list = [{\"ra\":ras,\"dec\":decs} for ras,decs in zip(ra,dec)]\n",
    "data = ra_dec_list[number*bins:(number*bins)+bins]\n",
    "info = HscCrossmatch(data)\n",
    "astrotable = mastJson2Table_Filt(info)\n",
    "#print(info)\n",
    "print(astrotable)\n",
    "# with open('Matching.txt', 'a+') as outfile:\n",
    "#     json.dump(info, outfile)\n",
    "#     outfile.write('\\n')"
   ]
  },
  {
   "cell_type": "code",
   "execution_count": 29,
   "metadata": {},
   "outputs": [
    {
     "name": "stdout",
     "output_type": "stream",
     "text": [
      "        ImageName         \n",
      "--------------------------\n",
      "hst_13324_06_acs_wfc_f475w\n",
      "hst_13324_06_acs_wfc_f814w\n"
     ]
    }
   ],
   "source": [
    "# os.chdir('/home/idies/workspace/persistent/JSON')\n",
    "# with open('Matching.txt') as f:\n",
    "#     lines = f.read().splitlines()\n",
    "#     f.close()\n",
    "\n",
    "\n",
    "# test = json.loads(lines[1])\n",
    "# astrotable = mastJson2Table(test)\n",
    "#print(astrotable.keys())\n",
    "pdtable = astrotable.to_pandas()\n",
    "matches = getHSCMatches(str(pdtable.loc[0,'MatchID']))\n",
    "astrotable1 = mastJson2Table(matches)\n",
    "print(astrotable1['ImageName'])"
   ]
  },
  {
   "cell_type": "code",
   "execution_count": 32,
   "metadata": {},
   "outputs": [
    {
     "name": "stdout",
     "output_type": "stream",
     "text": [
      "['ra', 'dec', 'MatchID', 'distanceArcMin', 'MatchRA', 'MatchDec', 'DSigma', 'AbsCorr', 'NumFilters', 'NumVisits', 'NumImages', 'StartMJD', 'StopMJD', 'TargetName', 'CI', 'CI_Sigma', 'KronRadius', 'KronRadius_Sigma', 'Extinction', 'W2_F300W', 'W2_F300W_Sigma', 'W2_F300W_N', 'W3_F350LP', 'W3_F350LP_Sigma', 'W3_F350LP_N', 'A_F435W', 'A_F435W_Sigma', 'A_F435W_N', 'W2_F450W', 'W2_F450W_Sigma', 'W2_F450W_N', 'A_F475W', 'A_F475W_Sigma', 'A_F475W_N', 'W3_F547M', 'W3_F547M_Sigma', 'W3_F547M_N', 'A_F550M', 'A_F550M_Sigma', 'A_F550M_N', 'A_F555W', 'A_F555W_Sigma', 'A_F555W_N', 'W3_F555W', 'W3_F555W_Sigma', 'W3_F555W_N', 'A_F606W', 'A_F606W_Sigma', 'A_F606W_N', 'W2_F606W', 'W2_F606W_Sigma', 'W2_F606W_N', 'A_F625W', 'A_F625W_Sigma', 'A_F625W_N', 'W2_F675W', 'W2_F675W_Sigma', 'W2_F675W_N', 'A_F775W', 'A_F775W_Sigma', 'A_F775W_N', 'A_F814W', 'A_F814W_Sigma', 'A_F814W_N', 'W2_F814W', 'W2_F814W_Sigma', 'W2_F814W_N', 'W3_F814W', 'W3_F814W_Sigma', 'W3_F814W_N', 'W2_F1042M', 'W2_F1042M_Sigma', 'W2_F1042M_N', 'W3_F110W', 'W3_F110W_Sigma', 'W3_F110W_N', 'W3_F160W', 'W3_F160W_Sigma', 'W3_F160W_N', '_selected_']\n",
      "['CatID', 'MatchID', 'MemID', 'SourceID', 'ImageID', 'Det', 'MatchRA', 'MatchDec', 'SourceRA', 'SourceDec', 'D', 'DSigma', 'AbsCorr', 'XImage', 'YImage', 'ImageName', 'Instrument', 'Mode', 'Detector', 'Aperture', 'ExposureTime', 'StartMJD', 'StopMJD', 'WaveLength', 'Filter', 'TargetName', 'FluxAper2', 'MagAper2', 'MagAuto', 'PropID', 'CI', 'KronRadius', 'Flags', 'naxis', 'crpix', 'crval', 'cd_matrix', '_selected_']\n"
     ]
    }
   ],
   "source": [
    "print(astrotable.keys())\n",
    "print(astrotable1.keys())"
   ]
  },
  {
   "cell_type": "code",
   "execution_count": 60,
   "metadata": {},
   "outputs": [
    {
     "ename": "TypeError",
     "evalue": "ufunc 'add' did not contain a loop with signature matching types dtype('<U26') dtype('<U26') dtype('<U26')",
     "output_type": "error",
     "traceback": [
      "\u001b[0;31m\u001b[0m",
      "\u001b[0;31mTypeError\u001b[0mTraceback (most recent call last)",
      "\u001b[0;32m<ipython-input-60-fbd801afa8e8>\u001b[0m in \u001b[0;36m<module>\u001b[0;34m()\u001b[0m\n\u001b[1;32m     12\u001b[0m     \u001b[0;31m# Download the data\u001b[0m\u001b[0;34m\u001b[0m\u001b[0;34m\u001b[0m\u001b[0m\n\u001b[1;32m     13\u001b[0m     \u001b[0muri\u001b[0m \u001b[0;34m=\u001b[0m \u001b[0mrow\u001b[0m\u001b[0;34m[\u001b[0m\u001b[0;34m'ImageID'\u001b[0m\u001b[0;34m]\u001b[0m\u001b[0;34m\u001b[0m\u001b[0m\n\u001b[0;32m---> 14\u001b[0;31m     \u001b[0mconn\u001b[0m\u001b[0;34m.\u001b[0m\u001b[0mrequest\u001b[0m\u001b[0;34m(\u001b[0m\u001b[0;34m\"GET\"\u001b[0m\u001b[0;34m,\u001b[0m \u001b[0;34m\"/api/v0/download/file?uri=\"\u001b[0m\u001b[0;34m+\u001b[0m\u001b[0muri\u001b[0m\u001b[0;34m)\u001b[0m\u001b[0;34m\u001b[0m\u001b[0m\n\u001b[0m\u001b[1;32m     15\u001b[0m     \u001b[0mresp\u001b[0m \u001b[0;34m=\u001b[0m \u001b[0mconn\u001b[0m\u001b[0;34m.\u001b[0m\u001b[0mgetresponse\u001b[0m\u001b[0;34m(\u001b[0m\u001b[0;34m)\u001b[0m\u001b[0;34m\u001b[0m\u001b[0m\n\u001b[1;32m     16\u001b[0m     \u001b[0mfileContent\u001b[0m \u001b[0;34m=\u001b[0m \u001b[0mresp\u001b[0m\u001b[0;34m.\u001b[0m\u001b[0mread\u001b[0m\u001b[0;34m(\u001b[0m\u001b[0;34m)\u001b[0m\u001b[0;34m\u001b[0m\u001b[0m\n",
      "\u001b[0;31mTypeError\u001b[0m: ufunc 'add' did not contain a loop with signature matching types dtype('<U26') dtype('<U26') dtype('<U26')"
     ]
    }
   ],
   "source": [
    "server='mast.stsci.edu'\n",
    "conn = httplib.HTTPSConnection(server)\n",
    "\n",
    "for row in first_astrotable:     \n",
    "\n",
    "    # make file path\n",
    "    outPath = '/home/idies/workspace/persistent'\n",
    "    if not os.path.exists(outPath):\n",
    "        os.makedirs(outPath)\n",
    "    outPath += '/test'\n",
    "        \n",
    "    # Download the data\n",
    "    uri = row['ImageID']\n",
    "    conn.request(\"GET\", \"/api/v0/download/file?uri=\"+uri)\n",
    "    resp = conn.getresponse()\n",
    "    fileContent = resp.read()\n",
    "    \n",
    "    # save to file\n",
    "    with open(outPath,'wb') as FLE:\n",
    "        FLE.write(fileContent)\n",
    "        \n",
    "    # check for file \n",
    "    if not os.path.isfile(outPath):\n",
    "        print(\"ERROR: \" + outPath + \" failed to download.\")\n",
    "    else:\n",
    "        print(\"COMPLETE: \", outPath)\n"
   ]
  },
  {
   "cell_type": "code",
   "execution_count": null,
   "metadata": {},
   "outputs": [],
   "source": []
  },
  {
   "cell_type": "code",
   "execution_count": null,
   "metadata": {},
   "outputs": [],
   "source": []
  },
  {
   "cell_type": "code",
   "execution_count": null,
   "metadata": {},
   "outputs": [],
   "source": []
  },
  {
   "cell_type": "code",
   "execution_count": null,
   "metadata": {},
   "outputs": [],
   "source": []
  }
 ],
 "metadata": {
  "kernelspec": {
   "display_name": "Python [default]",
   "language": "python",
   "name": "python3"
  },
  "language_info": {
   "codemirror_mode": {
    "name": "ipython",
    "version": 3
   },
   "file_extension": ".py",
   "mimetype": "text/x-python",
   "name": "python",
   "nbconvert_exporter": "python",
   "pygments_lexer": "ipython3",
   "version": "3.5.2"
  }
 },
 "nbformat": 4,
 "nbformat_minor": 1
}
